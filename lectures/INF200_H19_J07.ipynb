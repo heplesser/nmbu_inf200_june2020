{
 "cells": [
  {
   "cell_type": "markdown",
   "metadata": {},
   "source": [
    "# INF200 Lecture No J07\n",
    "### Hans Ekkehard Plesser / NMBU\n",
    "### 11 June 2020\n",
    "\n",
    "## Today's topics\n",
    "\n",
    "- Status\n",
    "- Priorities for remaining work\n",
    "- Exam information\n",
    "- Schedule for remainder of block\n",
    "- Distribution packages\n",
    "- Profiling and optimization"
   ]
  },
  {
   "cell_type": "markdown",
   "metadata": {},
   "source": [
    "## Status\n",
    "\n",
    "- By today, all groups should have\n",
    "    - herbivores and carnivores behaving correctly in a single lowland cell as in my examples\n",
    "- By tomorrow afternoon, all groups should have\n",
    "    - a draft version of migration"
   ]
  },
  {
   "cell_type": "markdown",
   "metadata": {},
   "source": [
    "## Priorities for remaining work\n",
    "\n",
    "1. Migration\n",
    "1. Visualization (use RandVis as a starting point!)\n",
    "1. Documentation with Sphinx\n",
    "1. Packaging\n",
    "1. Optimization"
   ]
  },
  {
   "cell_type": "markdown",
   "metadata": {},
   "source": [
    "## Exam information"
   ]
  },
  {
   "cell_type": "markdown",
   "metadata": {},
   "source": [
    "### Time and Place\n",
    "\n",
    "- **Ca 09.00-17.00, Monday 22 June and Tuesday 23 June 2020** \n",
    "- You can find your specific exam time on Canvas and Teams (coming soon)\n",
    "- Room: Zoom room for INF200, details will follow"
   ]
  },
  {
   "cell_type": "markdown",
   "metadata": {},
   "source": [
    "### Format\n",
    "\n",
    "- Both students in a group are examined together\n",
    "- Short presentation of your results (**five minutes**)\n",
    "    - You may use one PDF file (a few slides) and one short animation (MP4 or GIF)\n",
    "    - These must be submitted by Saturday, 20 June, 12.00\n",
    "- Discussion with examiners (20 minutes, Plesser and Jochen Eppler, Research Centre Jülich)\n",
    "    - Your code will available on screen during discussion"
   ]
  },
  {
   "cell_type": "markdown",
   "metadata": {},
   "source": [
    "### Content of presentation/discussion\n",
    "\n",
    "- You are a software developer presenting your product to your client\n",
    "- Explain to the client/examiner how you have solved the task\n",
    "    - Overall structure of the code\n",
    "    - Examples of how you solved specific aspects/problems\n",
    "- Persuade the client/examiner that your code is trustworthy\n",
    "    - How did you ensure quality?\n",
    "    - Is code in maintainable shape (tests/documentation etc)\n",
    "    - Do you as a developer know your stuff?\n",
    "- Pursuade the client that your code is productive\n",
    "    - Ease of use. Is it easy to use and manipulate the code you have written?\n",
    "    - Performance: Is the code fast?\n",
    "- Show some interesting results\n",
    "- Remember, 5 minutes is not very long!\n",
    "    - Choose in advance what you want to spend your time on\n",
    "    - Do not make too many or too verbose slides"
   ]
  },
  {
   "cell_type": "markdown",
   "metadata": {},
   "source": [
    "### Evaluation\n",
    "\n",
    "- Code evaluation jointly for both team members:\n",
    "    - 0-70 points\n",
    "- Individual evaluation of performance during exams:\n",
    "    - 0-30 points\n",
    "- Final grade set according to total number of points\n",
    "    - A-F"
   ]
  },
  {
   "cell_type": "markdown",
   "metadata": {},
   "source": [
    "### Criteria for code\n",
    "\n",
    "- Completeness\n",
    "    - Did you provide everything customer asked for?\n",
    "    - Did you do any further development?\n",
    "- Code Quality\n",
    "    - Correctness of implementation\n",
    "    - Were specifications followed?\n",
    "    - Suitable coding constructs vs unnecessarily complex code\n",
    "    - Readability of code\n",
    "    - Pythonic coding style\n",
    "    - Tidiness (PEP8, maximum line length 100)\n",
    "- Quality control/Testing\n",
    "- Documentation (docstrings and sphinx) ([PEP257](https://www.python.org/dev/peps/pep-0257/))"
   ]
  },
  {
   "cell_type": "markdown",
   "metadata": {},
   "source": [
    "### Criteria for presentation\n",
    "\n",
    "- Your ability to present and explain your code\n",
    "    - Overall structure\n",
    "    - What solutions you chose and why\n",
    "    - Why your code is trustworthy\n",
    "- Your ability to discuss your code\n",
    "    - Do you understand your own code?\n",
    "    - Are you aware of its limitations?\n",
    "    - What would you improve/extend if you had better time?"
   ]
  },
  {
   "cell_type": "markdown",
   "metadata": {},
   "source": [
    "### Submission of material\n",
    "\n",
    "#### Project Code\n",
    "- **Deadline: Thursday, 18 June, 12.00**\n",
    "- Submit your code as follows, working in your team repository (video will follow):\n",
    "    1. Commit your final changes\n",
    "    1. Make sure all your code is in your **`master` branch** \n",
    "    1. In your Git program, add the tag `BiosimSubmission` as tag (no spaces)\n",
    "    1. Push tag to Github\n",
    "    1. **Confirm that tag is visible on Github!**\n",
    "- The tagged commit must be dated no later than 18 June 2020, 12.00 CEST.\n",
    "- Test creating tags before next Thursday!"
   ]
  },
  {
   "cell_type": "markdown",
   "metadata": {},
   "source": [
    "\n",
    "#### Presentation files\n",
    "\n",
    "- All presentation files must be handed in, and will be available on the examiners machine during the presentation, this is to save time on setup between students.\n",
    "- **Deadline: Saturday, 20 June, 12.00**\n",
    "- Submit your material (one PDF, one mp4 or GIF) as follows, working in your **team repository**:\n",
    "    1. At the top level in the repository, create a folder `Exam`\n",
    "    1. Put your files into the `Exam` folder, on branch `master`\n",
    "    1. Commit and Push\n",
    "    1. Add a tag `INF200Exam` to the final commit of the material\n",
    "    1. Make sure material and tag are visible on Github\n",
    "- Files and tag must be in place by the deadline.\n",
    "- I will contact you by mail if there is any issues getting hold of your pdf/mp4/gif so **please check your mail during Saturday and Sunday!**"
   ]
  },
  {
   "cell_type": "markdown",
   "metadata": {},
   "source": [
    "\n",
    "## Schedule for remainder of block\n",
    "\n",
    "- Lecture Thursday 18 June, 13.30-15.00 on C++\n",
    "- For the remainder of the course, we will have morning meetings (from 09.00) and afternoon meetings (from 14.30) on Zoom to discuss status and provide advice, but no more lectures\n",
    "    - Mandatory attendance will be checked\n",
    "- Friday 19 June\n",
    "    - Individual work on your presentations\n",
    "    - *No* mandatory attendance\n",
    "    - Amir and Bishnu will be available for some time for questions\n",
    "        - Precise times will be posted later\n",
    "- Saturday 20 June\n",
    "    - Presentation deadline 12.00 noon CET \n",
    "- Monday/Tuesday 22/23 June\n",
    "    - Exam"
   ]
  },
  {
   "cell_type": "markdown",
   "metadata": {
    "slideshow": {
     "slide_type": "slide"
    }
   },
   "source": [
    "## Distribution Packages\n",
    "\n",
    "Let us say you have spent the last year creating some really great Python code, and now you want to share it with others. What do we need to do?\n",
    "- Need to put \"everything together\" into a nice \"parcel\"\n",
    "- Need to handle *dependencies* (e.g., that our code needs NumPy)\n",
    "- Need to \"spread the word (code)\"\n",
    "\n",
    "**Python solution**: *Packaging*"
   ]
  },
  {
   "cell_type": "markdown",
   "metadata": {
    "slideshow": {
     "slide_type": "subslide"
    }
   },
   "source": [
    "#### Packages *vs* Packages\n",
    "\n",
    "You might have noted that we now have to different things called *packages*, they are either\n",
    "- Collections of modules (import packages)\n",
    "- A collection of code neatly packaged for sharing with others (distribution packages)\n",
    "\n",
    "Yes, having the same name for two different things is confusing. Programmers are horrible at naming conventions, we just have to deal with that"
   ]
  },
  {
   "cell_type": "markdown",
   "metadata": {
    "slideshow": {
     "slide_type": "subslide"
    }
   },
   "source": [
    "The [Python Packaging User Guide Glossary](https://packaging.python.org/glossary/) defines a Distribution Package as\n",
    "\n",
    "\"A versioned archive file that contains Python packages, modules, and other resource files that are used to distribute a Release. The archive file is what an end-user will download from the internet and install.\""
   ]
  },
  {
   "cell_type": "markdown",
   "metadata": {
    "slideshow": {
     "slide_type": "subslide"
    }
   },
   "source": [
    "### Where to share distribution packages?\n",
    "\n",
    "You have now created a nice distribution package of your code (we will check out the details soon), how do you share it? \n",
    "- If it is only with a few people, email, direct transfer, etc is fine\n",
    "- If you want to keep the code open for everyone to see, github/bitbucket is a nice way to do it\n",
    "- Alternatively, you can use the [Python Package Index (PyPI)](https://pypi.python.org), aka the \"CheeseShop\"\n",
    "- If you want to make it easily available for Conda users, consider creating a [Conda package as well](https://docs.conda.io/projects/conda-build/en/latest/user-guide/tutorials/build-pkgs.html)\n",
    "    - [Discussion of Conda vs PIP by Jake Vanderplas](https://jakevdp.github.io/blog/2016/08/25/conda-myths-and-misconceptions/)"
   ]
  },
  {
   "cell_type": "markdown",
   "metadata": {
    "slideshow": {
     "slide_type": "subslide"
    }
   },
   "source": [
    "**Quiz:** Why is the Python programming language called Python?"
   ]
  },
  {
   "cell_type": "markdown",
   "metadata": {
    "slideshow": {
     "slide_type": "fragment"
    }
   },
   "source": [
    "Guido van Rossum, Pythons original creator and [Benevolent Dictator For Life](https://en.wikipedia.org/wiki/Benevolent_dictator_for_life) (retired summer 2018), is a huge fan of  Monty Python's Flying Circus. \n",
    "\n",
    "Due to this, you will often find references to Monty Python if you look through Python's surrounding community and documentation. For example with PyPI, which is referred to as the Python Cheese Shop"
   ]
  },
  {
   "cell_type": "markdown",
   "metadata": {
    "slideshow": {
     "slide_type": "subslide"
    }
   },
   "source": [
    "## How do we create Distribution Packages?\n",
    "\n",
    "We wil only skim over the subject briefly, for details see for example\n",
    "- [Python Packaging User Guide](https://packaging.python.org/tutorials/distributing-packages/)\n",
    "- [PyPA Sample Project on Github](https://github.com/pypa/sampleproject)\n",
    "- https://docs.python.org/3.8/distributing\n",
    "- https://docs.python.org/3.8/installing"
   ]
  },
  {
   "cell_type": "markdown",
   "metadata": {
    "slideshow": {
     "slide_type": "subslide"
    }
   },
   "source": [
    "#### Key idea of a distribution package\n",
    "\n",
    "We want to make sharing Python-based projects easy\n",
    "- Collect\n",
    "    - Source code: Python modules, import packages, tests\n",
    "    - Example scripts\n",
    "    - Documentation\n",
    "    - ...\n",
    "    \n",
    "    \n",
    "- Provide *metadata* about the code, e.g.,\n",
    "    - Purpose, Dependencies, Author information\n",
    "    - License information, Version information, ...\n",
    "    \n",
    "    \n",
    "- Provide a *build archive*\n",
    "- Support easy installation to predefined locations"
   ]
  },
  {
   "cell_type": "markdown",
   "metadata": {
    "slideshow": {
     "slide_type": "subslide"
    }
   },
   "source": [
    "#### Example: Typical distribution package directory layout\n",
    "\n",
    "```\n",
    "chutes_project\n",
    "   chutes\n",
    "      __init__.py\n",
    "      board.py\n",
    "      player.py\n",
    "   examples\n",
    "      chutes_demo.py\n",
    "   tests\n",
    "      test_board.py\n",
    "   MANIFEST.in\n",
    "   README.rst\n",
    "   requirements.txt\n",
    "   setup.py\n",
    "```"
   ]
  },
  {
   "cell_type": "markdown",
   "metadata": {
    "slideshow": {
     "slide_type": "subslide"
    }
   },
   "source": [
    "In our example, `chutes` is an import package included in our distribution, it is the source code. In this example `tests` is placed next to the source code package.\n",
    "\n",
    "In addition to the `chutes` package we have a folder called `examples`, with some scripts the user can look at to see how the `chutes` packaged can be used. Note that `example` is *not* a package, as it does not have an `__init__.py` file, it is just a regular folder. If you have a notebook with examples, they could also be placed here."
   ]
  },
  {
   "cell_type": "markdown",
   "metadata": {
    "slideshow": {
     "slide_type": "subslide"
    }
   },
   "source": [
    "\n",
    "Other files\n",
    "- A `README.rst` contains a description of the distribution package, and usually contain some information to the user about how to install it and where to look for examples/documentation. The file type is flexible, but it should be a [reStructured Text file](https://en.wikipedia.org/wiki/ReStructuredText) for compatibility with PyPI\n",
    "- `MANIFEST.in` describes which files to include in addition to packages (e.g., example scripts)\n",
    "- `setup.py` is a Python script using [distutils](https://docs.python.org/3/distutils/index.html#distutils-index) or [setuptools](https://setuptools.readthedocs.io/en/latest/) to define the distribution package including metadata\n",
    "- `requirements.txt` lists Python packages that are required for this software to work ([see Pip documentation](https://pip.pypa.io/en/stable/user_guide/#requirements-files))"
   ]
  },
  {
   "cell_type": "markdown",
   "metadata": {
    "slideshow": {
     "slide_type": "subslide"
    }
   },
   "source": [
    "When somebody downloads your distribution package, they will install your package by running the `setup.py` script. This is done in one of the following three ways\n",
    "1. `python setup.py install`\n",
    "1. `python setup.py install --user`\n",
    "\n",
    "The first way installs the package on the whole system. The second installs it just for the current used. **Use this second variant!**\n",
    "\n",
    "Might have to run the script as admin/sudo."
   ]
  },
  {
   "cell_type": "markdown",
   "metadata": {
    "slideshow": {
     "slide_type": "subslide"
    }
   },
   "source": [
    "##### A typical setup.py for a simple project\n",
    "\n",
    "```Python\n",
    "from setuptools import setup\n",
    "import codecs\n",
    "import os\n",
    "\n",
    "def read_readme():\n",
    "    here = os.path.abspath(os.path.dirname(__file__))\n",
    "    with codecs.open(os.path.join(here, 'README.rst'), encoding='utf-8') as f:\n",
    "        long_description = f.read()\n",
    "    return long_description\n",
    "\n",
    "setup(\n",
    "      # Basic information\n",
    "      name='chutes',\n",
    "      version='0.1.0',\n",
    "\n",
    "      # Packages to include\n",
    "      packages=['chutes'],\n",
    "\n",
    "      # Required packages not included in Python standard library\n",
    "      requires=['pytest'],\n",
    "\n",
    "      # Metadata\n",
    "      description='A Chutes & Ladders Simulation',\n",
    "      long_description=read_readme(),\n",
    "      author='Hans Ekkehard Plesser, NMBU',\n",
    "      author_email='hans.ekkehard.plesser@nmbu.no',\n",
    "      url='https://github.com/heplesser/nmbu_inf200_june2020',\n",
    "      keywords='simulation game',\n",
    "      license='MIT License',\n",
    "      classifiers=[\n",
    "        'Development Status :: 3 - Alpha',\n",
    "        'Intended Audience :: Developers',\n",
    "        'Topic :: Science :: Stochastic processes',\n",
    "        'License :: OSI Approved :: MIT License',\n",
    "        'Programming Language :: Python :: 3.8',\n",
    "        ]\n",
    ")\n",
    "```"
   ]
  },
  {
   "cell_type": "markdown",
   "metadata": {},
   "source": [
    "##### A typical `MANIFEST.in` file\n",
    "\n",
    "```\n",
    "recursive-include examples *.py *.ipynb\n",
    "recursive-include tests *.py\n",
    "```\n",
    "\n",
    "This tells `setup.py` to include recursively all `*.py` and `*.ipynb` files from `examples` and all `*.py` files from `tests`."
   ]
  },
  {
   "cell_type": "markdown",
   "metadata": {
    "slideshow": {
     "slide_type": "subslide"
    }
   },
   "source": [
    "#### Creating packages\n",
    "\n",
    "In addition to being used for installation, the `setup.py` script can also be used to create a nice *archive* of your package for easy transmission as a single file\n",
    "- Run\n",
    "    - `python setup.py sdist`\n",
    "  \n",
    "- To create a zip-archive (easier on Windows), do\n",
    "      - python setup.py sdist --formats=gztar,zip\n",
    "  \n",
    "The archives are placed in directory `dist`\n",
    "\n",
    "You can then share the compressed archive file (zip, tgz, ...)"
   ]
  },
  {
   "cell_type": "markdown",
   "metadata": {
    "slideshow": {
     "slide_type": "subslide"
    }
   },
   "source": [
    "\n",
    "#### Automatic installation of packages\n",
    "\n",
    "Many popular packages are available through Anaconda, you can simply write\n",
    "    - `conda install <package name>`\n",
    "In your terminal (requires you to have Anaconda installed). This automatically downloads and installs the package, if it is available\n",
    "\n",
    "Not all packages are avilable through conda, an alternative is `pip`, which is a program to automate \n",
    "    - `pip install <package name>`"
   ]
  },
  {
   "cell_type": "markdown",
   "metadata": {},
   "source": [
    "## Optimization\n",
    "\n",
    "1. Profile to understand where you program uses time\n",
    "    - Disable all graphics and file output for profiling\n",
    "    - Profile in PyCharm using `Profile` from the `Run` menu\n",
    "        - See call statistics and call graph\n",
    "        - Graph can also be stored as figure\n",
    "1. Optimize the parts that require most time first\n",
    "    - See if you can find \"low hanging fruits\": individual functions taking a lot of time\n",
    "1. How to optimize\n",
    "    - Reduce number of function calls required\n",
    "    - Make functions run faster\n",
    "1. Techniques\n",
    "    - Lazy evaluation\n",
    "        - If a computation is costly, perform it only when really necessary\n",
    "        - Mark value as invalid if changes occur that will require recomputation at some point\n",
    "        - When a value is marked invalid when requested, recompute and store\n",
    "    - Implementation of lazy evaluation\n",
    "        - Use *properties*  in Python \n",
    "    - Just in time compilation using [Numba](https://numba.pydata.org)\n",
    "        - See discussion in lectures in the fall term\n",
    "        - Use only for compact functions or methods performing mathematical operations\n",
    "    - Coding critical parts with [Cython](https://cython.org) (or even in C++, but that is a whole new story ...)"
   ]
  },
  {
   "cell_type": "code",
   "execution_count": null,
   "metadata": {},
   "outputs": [],
   "source": []
  }
 ],
 "metadata": {
  "kernelspec": {
   "display_name": "Python 3",
   "language": "python",
   "name": "python3"
  },
  "language_info": {
   "codemirror_mode": {
    "name": "ipython",
    "version": 3
   },
   "file_extension": ".py",
   "mimetype": "text/x-python",
   "name": "python",
   "nbconvert_exporter": "python",
   "pygments_lexer": "ipython3",
   "version": "3.8.2"
  }
 },
 "nbformat": 4,
 "nbformat_minor": 4
}
